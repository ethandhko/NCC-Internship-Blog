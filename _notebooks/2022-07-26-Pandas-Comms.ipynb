{
  "cells": [
    {
      "cell_type": "markdown",
      "source": [
        "# Pandas Commands\n",
        "> A list of Pandas Commands\n",
        "\n",
        "- toc: true\n",
        "- branch: master\n",
        "- badges: true\n",
        "- comments: true\n",
        "- categories: [fastpages, jupyter]\n",
        "- image: images/pandas.png"
      ],
      "metadata": {
        "id": "ZnGiSqpWGw4f"
      },
      "id": "ZnGiSqpWGw4f"
    },
    {
      "cell_type": "code",
      "execution_count": null,
      "id": "4617f8ea-8ae1-464b-a365-3b8273968cb3",
      "metadata": {
        "id": "4617f8ea-8ae1-464b-a365-3b8273968cb3"
      },
      "outputs": [],
      "source": [
        "import pandas\n",
        "import pandas as pd\n",
        "import altair as alt"
      ]
    },
    {
      "cell_type": "markdown",
      "source": [
        "#About\n",
        "\n",
        "This blog post displays several Pandas commands that have helped me throughout this internship.\n",
        "I have seperated the commands into four categories: general dataframes commands, column commands, row commands, and CPTAC commands.\n",
        "I hope this post will be helpful to those who are new to Pandas or just need a reminder of the commands."
      ],
      "metadata": {
        "id": "_ZctnHjZG3Gp"
      },
      "id": "_ZctnHjZG3Gp"
    },
    {
      "cell_type": "markdown",
      "source": [
        "#General Dataframe Commands"
      ],
      "metadata": {
        "id": "jcnFZBu5G6ql"
      },
      "id": "jcnFZBu5G6ql"
    },
    {
      "cell_type": "code",
      "execution_count": null,
      "id": "c3406ead-bcef-4f60-9475-a6f1e41f0d95",
      "metadata": {
        "id": "c3406ead-bcef-4f60-9475-a6f1e41f0d95"
      },
      "outputs": [],
      "source": [
        "#Creating Dataframe from TSV/CSV File\n",
        "df = pandas.read_csv('name of file.tsv', sep = '\\t')"
      ]
    },
    {
      "cell_type": "code",
      "execution_count": null,
      "id": "268b7a0f-749a-4dbf-9f70-9c09573f1df4",
      "metadata": {
        "id": "268b7a0f-749a-4dbf-9f70-9c09573f1df4"
      },
      "outputs": [],
      "source": [
        "#Creating Dataframe from TSV/CSV File\n",
        "df = pandas.read_excel('name of file.xlsx')"
      ]
    },
    {
      "cell_type": "code",
      "execution_count": null,
      "id": "aeb024da-013e-4e0a-a463-aca987d3a777",
      "metadata": {
        "id": "aeb024da-013e-4e0a-a463-aca987d3a777"
      },
      "outputs": [],
      "source": [
        "#Create your own Dataframe\n",
        "df = ({'Cost':[1, 2, 3],\n",
        "        'Revenue': [4, 5, 6]})\n",
        "df = pd.DataFrame(df)"
      ]
    },
    {
      "cell_type": "code",
      "execution_count": null,
      "id": "676bba13-a7ef-4a85-8107-2ed3c54d7b5c",
      "metadata": {
        "id": "676bba13-a7ef-4a85-8107-2ed3c54d7b5c",
        "outputId": "afbff4a6-4ef6-4a32-ee05-0556e6d4787d"
      },
      "outputs": [
        {
          "data": {
            "text/html": [
              "<div>\n",
              "<style scoped>\n",
              "    .dataframe tbody tr th:only-of-type {\n",
              "        vertical-align: middle;\n",
              "    }\n",
              "\n",
              "    .dataframe tbody tr th {\n",
              "        vertical-align: top;\n",
              "    }\n",
              "\n",
              "    .dataframe thead th {\n",
              "        text-align: right;\n",
              "    }\n",
              "</style>\n",
              "<table border=\"1\" class=\"dataframe\">\n",
              "  <thead>\n",
              "    <tr style=\"text-align: right;\">\n",
              "      <th></th>\n",
              "      <th>Cost</th>\n",
              "      <th>Revenue</th>\n",
              "    </tr>\n",
              "  </thead>\n",
              "  <tbody>\n",
              "    <tr>\n",
              "      <th>0</th>\n",
              "      <td>1</td>\n",
              "      <td>4</td>\n",
              "    </tr>\n",
              "    <tr>\n",
              "      <th>1</th>\n",
              "      <td>2</td>\n",
              "      <td>5</td>\n",
              "    </tr>\n",
              "    <tr>\n",
              "      <th>2</th>\n",
              "      <td>3</td>\n",
              "      <td>6</td>\n",
              "    </tr>\n",
              "  </tbody>\n",
              "</table>\n",
              "</div>"
            ],
            "text/plain": [
              "   Cost  Revenue\n",
              "0     1        4\n",
              "1     2        5\n",
              "2     3        6"
            ]
          },
          "execution_count": 40,
          "metadata": {},
          "output_type": "execute_result"
        }
      ],
      "source": [
        "#collapse-output\n",
        "#Display Dataframe\n",
        "df"
      ]
    },
    {
      "cell_type": "code",
      "execution_count": null,
      "id": "937e9475-1c83-4f3b-8108-7365f49c47b8",
      "metadata": {
        "id": "937e9475-1c83-4f3b-8108-7365f49c47b8",
        "outputId": "8832e60c-e54d-42a2-cd60-7b9debd9f41f"
      },
      "outputs": [
        {
          "data": {
            "text/html": [
              "<div>\n",
              "<style scoped>\n",
              "    .dataframe tbody tr th:only-of-type {\n",
              "        vertical-align: middle;\n",
              "    }\n",
              "\n",
              "    .dataframe tbody tr th {\n",
              "        vertical-align: top;\n",
              "    }\n",
              "\n",
              "    .dataframe thead th {\n",
              "        text-align: right;\n",
              "    }\n",
              "</style>\n",
              "<table border=\"1\" class=\"dataframe\">\n",
              "  <thead>\n",
              "    <tr style=\"text-align: right;\">\n",
              "      <th></th>\n",
              "      <th>0</th>\n",
              "      <th>1</th>\n",
              "      <th>2</th>\n",
              "    </tr>\n",
              "  </thead>\n",
              "  <tbody>\n",
              "    <tr>\n",
              "      <th>Cost</th>\n",
              "      <td>1</td>\n",
              "      <td>2</td>\n",
              "      <td>3</td>\n",
              "    </tr>\n",
              "    <tr>\n",
              "      <th>Revenue</th>\n",
              "      <td>4</td>\n",
              "      <td>5</td>\n",
              "      <td>6</td>\n",
              "    </tr>\n",
              "  </tbody>\n",
              "</table>\n",
              "</div>"
            ],
            "text/plain": [
              "         0  1  2\n",
              "Cost     1  2  3\n",
              "Revenue  4  5  6"
            ]
          },
          "execution_count": 41,
          "metadata": {},
          "output_type": "execute_result"
        }
      ],
      "source": [
        "#collapse-output\n",
        "#Transpose Dataframe\n",
        "df.transpose()"
      ]
    },
    {
      "cell_type": "code",
      "execution_count": null,
      "id": "9ea8c104-5e3a-4174-8478-46a610ebf775",
      "metadata": {
        "id": "9ea8c104-5e3a-4174-8478-46a610ebf775",
        "outputId": "1d5ceab3-8367-4306-906a-f8d353edd324"
      },
      "outputs": [
        {
          "name": "stdout",
          "output_type": "stream",
          "text": [
            "<class 'pandas.core.frame.DataFrame'>\n",
            "RangeIndex: 3 entries, 0 to 2\n",
            "Data columns (total 2 columns):\n",
            " #   Column  Non-Null Count  Dtype\n",
            "---  ------  --------------  -----\n",
            " 0   Cost    3 non-null      int64\n",
            " 1   Profit  3 non-null      int64\n",
            "dtypes: int64(2)\n",
            "memory usage: 176.0 bytes\n"
          ]
        }
      ],
      "source": [
        "#collapse-output\n",
        "#View datatypes, columns, index, and memory usage\n",
        "df.info()"
      ]
    },
    {
      "cell_type": "markdown",
      "source": [
        "#Column Commands"
      ],
      "metadata": {
        "id": "JA0KYiccHCh3"
      },
      "id": "JA0KYiccHCh3"
    },
    {
      "cell_type": "code",
      "execution_count": null,
      "id": "f995ce43-c3e9-4a07-b0a1-cd0181dcc93f",
      "metadata": {
        "id": "f995ce43-c3e9-4a07-b0a1-cd0181dcc93f",
        "outputId": "6e312c46-6363-48f6-f0c6-ea38c7c97afe"
      },
      "outputs": [
        {
          "data": {
            "text/html": [
              "<div>\n",
              "<style scoped>\n",
              "    .dataframe tbody tr th:only-of-type {\n",
              "        vertical-align: middle;\n",
              "    }\n",
              "\n",
              "    .dataframe tbody tr th {\n",
              "        vertical-align: top;\n",
              "    }\n",
              "\n",
              "    .dataframe thead th {\n",
              "        text-align: right;\n",
              "    }\n",
              "</style>\n",
              "<table border=\"1\" class=\"dataframe\">\n",
              "  <thead>\n",
              "    <tr style=\"text-align: right;\">\n",
              "      <th></th>\n",
              "      <th>Cost</th>\n",
              "      <th>Profit</th>\n",
              "    </tr>\n",
              "  </thead>\n",
              "  <tbody>\n",
              "    <tr>\n",
              "      <th>0</th>\n",
              "      <td>1</td>\n",
              "      <td>4</td>\n",
              "    </tr>\n",
              "    <tr>\n",
              "      <th>1</th>\n",
              "      <td>2</td>\n",
              "      <td>5</td>\n",
              "    </tr>\n",
              "    <tr>\n",
              "      <th>2</th>\n",
              "      <td>3</td>\n",
              "      <td>6</td>\n",
              "    </tr>\n",
              "  </tbody>\n",
              "</table>\n",
              "</div>"
            ],
            "text/plain": [
              "   Cost  Profit\n",
              "0     1       4\n",
              "1     2       5\n",
              "2     3       6"
            ]
          },
          "execution_count": 43,
          "metadata": {},
          "output_type": "execute_result"
        }
      ],
      "source": [
        "#collapse-output\n",
        "#Edit Title of a column\n",
        "df.rename(columns = {'Revenue' : 'Profit'}, inplace=True)\n",
        "df"
      ]
    },
    {
      "cell_type": "code",
      "execution_count": null,
      "id": "a1870939-10a1-44b3-bb64-2fd838a8da78",
      "metadata": {
        "id": "a1870939-10a1-44b3-bb64-2fd838a8da78",
        "outputId": "74849948-50e0-47a7-c8a7-32fab3593d54"
      },
      "outputs": [
        {
          "data": {
            "text/html": [
              "<div>\n",
              "<style scoped>\n",
              "    .dataframe tbody tr th:only-of-type {\n",
              "        vertical-align: middle;\n",
              "    }\n",
              "\n",
              "    .dataframe tbody tr th {\n",
              "        vertical-align: top;\n",
              "    }\n",
              "\n",
              "    .dataframe thead th {\n",
              "        text-align: right;\n",
              "    }\n",
              "</style>\n",
              "<table border=\"1\" class=\"dataframe\">\n",
              "  <thead>\n",
              "    <tr style=\"text-align: right;\">\n",
              "      <th></th>\n",
              "      <th>Cost</th>\n",
              "      <th>Profit</th>\n",
              "      <th>Price</th>\n",
              "    </tr>\n",
              "  </thead>\n",
              "  <tbody>\n",
              "    <tr>\n",
              "      <th>0</th>\n",
              "      <td>1</td>\n",
              "      <td>4</td>\n",
              "      <td>7</td>\n",
              "    </tr>\n",
              "    <tr>\n",
              "      <th>1</th>\n",
              "      <td>2</td>\n",
              "      <td>5</td>\n",
              "      <td>8</td>\n",
              "    </tr>\n",
              "    <tr>\n",
              "      <th>2</th>\n",
              "      <td>3</td>\n",
              "      <td>6</td>\n",
              "      <td>9</td>\n",
              "    </tr>\n",
              "  </tbody>\n",
              "</table>\n",
              "</div>"
            ],
            "text/plain": [
              "   Cost  Profit  Price\n",
              "0     1       4      7\n",
              "1     2       5      8\n",
              "2     3       6      9"
            ]
          },
          "execution_count": 53,
          "metadata": {},
          "output_type": "execute_result"
        }
      ],
      "source": [
        "#collapse-output\n",
        "#Add a new column\n",
        "Price = [7, 8, 9]\n",
        "df['Price'] = Price\n",
        "df"
      ]
    },
    {
      "cell_type": "code",
      "execution_count": null,
      "id": "70231da6-099f-4a1c-b030-f7d15cd4dfda",
      "metadata": {
        "id": "70231da6-099f-4a1c-b030-f7d15cd4dfda",
        "outputId": "1d5072da-4e8f-41f0-9f55-929a506bdd36"
      },
      "outputs": [
        {
          "data": {
            "text/html": [
              "<div>\n",
              "<style scoped>\n",
              "    .dataframe tbody tr th:only-of-type {\n",
              "        vertical-align: middle;\n",
              "    }\n",
              "\n",
              "    .dataframe tbody tr th {\n",
              "        vertical-align: top;\n",
              "    }\n",
              "\n",
              "    .dataframe thead th {\n",
              "        text-align: right;\n",
              "    }\n",
              "</style>\n",
              "<table border=\"1\" class=\"dataframe\">\n",
              "  <thead>\n",
              "    <tr style=\"text-align: right;\">\n",
              "      <th></th>\n",
              "      <th>Cost</th>\n",
              "      <th>Profit</th>\n",
              "    </tr>\n",
              "  </thead>\n",
              "  <tbody>\n",
              "    <tr>\n",
              "      <th>0</th>\n",
              "      <td>1</td>\n",
              "      <td>4</td>\n",
              "    </tr>\n",
              "    <tr>\n",
              "      <th>1</th>\n",
              "      <td>2</td>\n",
              "      <td>5</td>\n",
              "    </tr>\n",
              "    <tr>\n",
              "      <th>2</th>\n",
              "      <td>3</td>\n",
              "      <td>6</td>\n",
              "    </tr>\n",
              "  </tbody>\n",
              "</table>\n",
              "</div>"
            ],
            "text/plain": [
              "   Cost  Profit\n",
              "0     1       4\n",
              "1     2       5\n",
              "2     3       6"
            ]
          },
          "execution_count": 55,
          "metadata": {},
          "output_type": "execute_result"
        }
      ],
      "source": [
        "#collapse-output\n",
        "#Remove a column\n",
        "df.drop(columns=['Price'], inplace=True)\n",
        "df"
      ]
    },
    {
      "cell_type": "code",
      "execution_count": null,
      "id": "f9094c9b-5a55-4868-b629-f7c4f10d18f5",
      "metadata": {
        "id": "f9094c9b-5a55-4868-b629-f7c4f10d18f5",
        "outputId": "a0fbf8ea-ee77-44a6-fadb-90495bc39aeb"
      },
      "outputs": [
        {
          "data": {
            "text/html": [
              "<div>\n",
              "<style scoped>\n",
              "    .dataframe tbody tr th:only-of-type {\n",
              "        vertical-align: middle;\n",
              "    }\n",
              "\n",
              "    .dataframe tbody tr th {\n",
              "        vertical-align: top;\n",
              "    }\n",
              "\n",
              "    .dataframe thead th {\n",
              "        text-align: right;\n",
              "    }\n",
              "</style>\n",
              "<table border=\"1\" class=\"dataframe\">\n",
              "  <thead>\n",
              "    <tr style=\"text-align: right;\">\n",
              "      <th></th>\n",
              "      <th>Cost</th>\n",
              "      <th>Profit</th>\n",
              "    </tr>\n",
              "  </thead>\n",
              "  <tbody>\n",
              "    <tr>\n",
              "      <th>0</th>\n",
              "      <td>3</td>\n",
              "      <td>6</td>\n",
              "    </tr>\n",
              "    <tr>\n",
              "      <th>1</th>\n",
              "      <td>4</td>\n",
              "      <td>7</td>\n",
              "    </tr>\n",
              "    <tr>\n",
              "      <th>2</th>\n",
              "      <td>5</td>\n",
              "      <td>8</td>\n",
              "    </tr>\n",
              "  </tbody>\n",
              "</table>\n",
              "</div>"
            ],
            "text/plain": [
              "   Cost  Profit\n",
              "0     3       6\n",
              "1     4       7\n",
              "2     5       8"
            ]
          },
          "execution_count": 59,
          "metadata": {},
          "output_type": "execute_result"
        }
      ],
      "source": [
        "#collapse-output\n",
        "#Add a value to dataframe\n",
        "df += 1\n",
        "df"
      ]
    },
    {
      "cell_type": "code",
      "execution_count": null,
      "id": "17e3b470-78b3-4218-9b7d-1ece79493b26",
      "metadata": {
        "id": "17e3b470-78b3-4218-9b7d-1ece79493b26",
        "outputId": "9b7c860a-db97-4363-b577-479203ff7a83"
      },
      "outputs": [
        {
          "data": {
            "text/html": [
              "<div>\n",
              "<style scoped>\n",
              "    .dataframe tbody tr th:only-of-type {\n",
              "        vertical-align: middle;\n",
              "    }\n",
              "\n",
              "    .dataframe tbody tr th {\n",
              "        vertical-align: top;\n",
              "    }\n",
              "\n",
              "    .dataframe thead th {\n",
              "        text-align: right;\n",
              "    }\n",
              "</style>\n",
              "<table border=\"1\" class=\"dataframe\">\n",
              "  <thead>\n",
              "    <tr style=\"text-align: right;\">\n",
              "      <th></th>\n",
              "      <th>Cost</th>\n",
              "      <th>Profit</th>\n",
              "    </tr>\n",
              "  </thead>\n",
              "  <tbody>\n",
              "    <tr>\n",
              "      <th>0</th>\n",
              "      <td>1</td>\n",
              "      <td>4</td>\n",
              "    </tr>\n",
              "    <tr>\n",
              "      <th>1</th>\n",
              "      <td>2</td>\n",
              "      <td>5</td>\n",
              "    </tr>\n",
              "    <tr>\n",
              "      <th>2</th>\n",
              "      <td>3</td>\n",
              "      <td>6</td>\n",
              "    </tr>\n",
              "  </tbody>\n",
              "</table>\n",
              "</div>"
            ],
            "text/plain": [
              "   Cost  Profit\n",
              "0     1       4\n",
              "1     2       5\n",
              "2     3       6"
            ]
          },
          "execution_count": 63,
          "metadata": {},
          "output_type": "execute_result"
        }
      ],
      "source": [
        "#collapse-output\n",
        "#Subtract a value to dataframe\n",
        "df -= 1\n",
        "df"
      ]
    },
    {
      "cell_type": "markdown",
      "source": [
        "#Rows"
      ],
      "metadata": {
        "id": "W5zZGQAaHKx7"
      },
      "id": "W5zZGQAaHKx7"
    },
    {
      "cell_type": "code",
      "execution_count": null,
      "id": "04f47bbe-1a5e-480f-9474-12ab88c53fc4",
      "metadata": {
        "id": "04f47bbe-1a5e-480f-9474-12ab88c53fc4",
        "outputId": "5d9553cd-29e9-4b00-a26e-994fb53f7696"
      },
      "outputs": [
        {
          "data": {
            "text/plain": [
              "Cost      1\n",
              "Profit    4\n",
              "Name: 0, dtype: int64"
            ]
          },
          "execution_count": 65,
          "metadata": {},
          "output_type": "execute_result"
        }
      ],
      "source": [
        "#collapse-output\n",
        "#Find a row based off its index\n",
        "df.loc[0]"
      ]
    },
    {
      "cell_type": "code",
      "execution_count": null,
      "id": "0ec6cd88-c7c9-4cc7-be86-a32d74b5a4af",
      "metadata": {
        "id": "0ec6cd88-c7c9-4cc7-be86-a32d74b5a4af",
        "outputId": "dc5bf391-27b0-4fc0-8380-9fe8d87eef29"
      },
      "outputs": [
        {
          "data": {
            "text/html": [
              "<div>\n",
              "<style scoped>\n",
              "    .dataframe tbody tr th:only-of-type {\n",
              "        vertical-align: middle;\n",
              "    }\n",
              "\n",
              "    .dataframe tbody tr th {\n",
              "        vertical-align: top;\n",
              "    }\n",
              "\n",
              "    .dataframe thead th {\n",
              "        text-align: right;\n",
              "    }\n",
              "</style>\n",
              "<table border=\"1\" class=\"dataframe\">\n",
              "  <thead>\n",
              "    <tr style=\"text-align: right;\">\n",
              "      <th></th>\n",
              "      <th>Cost</th>\n",
              "      <th>Profit</th>\n",
              "    </tr>\n",
              "  </thead>\n",
              "  <tbody>\n",
              "    <tr>\n",
              "      <th>1</th>\n",
              "      <td>2</td>\n",
              "      <td>5</td>\n",
              "    </tr>\n",
              "  </tbody>\n",
              "</table>\n",
              "</div>"
            ],
            "text/plain": [
              "   Cost  Profit\n",
              "1     2       5"
            ]
          },
          "execution_count": 66,
          "metadata": {},
          "output_type": "execute_result"
        }
      ],
      "source": [
        "#collapse-output\n",
        "#Find a row based off value\n",
        "filt = (df['Cost'] == 2)\n",
        "df[filt]"
      ]
    },
    {
      "cell_type": "code",
      "execution_count": null,
      "id": "5fab6725-60f4-460d-b4cc-1e9d07e9efb6",
      "metadata": {
        "id": "5fab6725-60f4-460d-b4cc-1e9d07e9efb6",
        "outputId": "223b3acf-4961-4bc7-a449-bd7690adfcc3"
      },
      "outputs": [
        {
          "data": {
            "text/plain": [
              "0    True\n",
              "1    True\n",
              "2    True\n",
              "Name: Cost, dtype: bool"
            ]
          },
          "execution_count": 67,
          "metadata": {},
          "output_type": "execute_result"
        }
      ],
      "source": [
        "#collapse-output\n",
        "#Find rows without missing values\n",
        "df.Cost.notnull()"
      ]
    },
    {
      "cell_type": "markdown",
      "source": [
        "#CPTAC Commands"
      ],
      "metadata": {
        "id": "NEc0cFb8HNTi"
      },
      "id": "NEc0cFb8HNTi"
    },
    {
      "cell_type": "code",
      "execution_count": null,
      "id": "dc98b2f5-bc08-4a1c-b60f-6a1dcc357044",
      "metadata": {
        "id": "dc98b2f5-bc08-4a1c-b60f-6a1dcc357044"
      },
      "outputs": [],
      "source": [
        "import cptac"
      ]
    },
    {
      "cell_type": "code",
      "execution_count": null,
      "id": "db9aff30-9c35-4b49-ac59-dd3b05b9d6fb",
      "metadata": {
        "id": "db9aff30-9c35-4b49-ac59-dd3b05b9d6fb",
        "outputId": "dcbaf666-a793-4869-b3be-2f7d9d587fdc"
      },
      "outputs": [
        {
          "data": {
            "text/html": [
              "<div>\n",
              "<style scoped>\n",
              "    .dataframe tbody tr th:only-of-type {\n",
              "        vertical-align: middle;\n",
              "    }\n",
              "\n",
              "    .dataframe tbody tr th {\n",
              "        vertical-align: top;\n",
              "    }\n",
              "\n",
              "    .dataframe thead th {\n",
              "        text-align: right;\n",
              "    }\n",
              "</style>\n",
              "<table border=\"1\" class=\"dataframe\">\n",
              "  <thead>\n",
              "    <tr style=\"text-align: right;\">\n",
              "      <th></th>\n",
              "      <th>Description</th>\n",
              "      <th>Data reuse status</th>\n",
              "      <th>Publication link</th>\n",
              "    </tr>\n",
              "    <tr>\n",
              "      <th>Dataset name</th>\n",
              "      <th></th>\n",
              "      <th></th>\n",
              "      <th></th>\n",
              "    </tr>\n",
              "  </thead>\n",
              "  <tbody>\n",
              "    <tr>\n",
              "      <th>Brca</th>\n",
              "      <td>breast cancer</td>\n",
              "      <td>no restrictions</td>\n",
              "      <td>https://pubmed.ncbi.nlm.nih.gov/33212010/</td>\n",
              "    </tr>\n",
              "    <tr>\n",
              "      <th>Ccrcc</th>\n",
              "      <td>clear cell renal cell carcinoma (kidney)</td>\n",
              "      <td>no restrictions</td>\n",
              "      <td>https://pubmed.ncbi.nlm.nih.gov/31675502/</td>\n",
              "    </tr>\n",
              "    <tr>\n",
              "      <th>Colon</th>\n",
              "      <td>colorectal cancer</td>\n",
              "      <td>no restrictions</td>\n",
              "      <td>https://pubmed.ncbi.nlm.nih.gov/31031003/</td>\n",
              "    </tr>\n",
              "    <tr>\n",
              "      <th>Endometrial</th>\n",
              "      <td>endometrial carcinoma (uterine)</td>\n",
              "      <td>no restrictions</td>\n",
              "      <td>https://pubmed.ncbi.nlm.nih.gov/32059776/</td>\n",
              "    </tr>\n",
              "    <tr>\n",
              "      <th>Gbm</th>\n",
              "      <td>glioblastoma</td>\n",
              "      <td>no restrictions</td>\n",
              "      <td>https://pubmed.ncbi.nlm.nih.gov/33577785/</td>\n",
              "    </tr>\n",
              "    <tr>\n",
              "      <th>Hnscc</th>\n",
              "      <td>head and neck squamous cell carcinoma</td>\n",
              "      <td>no restrictions</td>\n",
              "      <td>https://pubmed.ncbi.nlm.nih.gov/33417831/</td>\n",
              "    </tr>\n",
              "    <tr>\n",
              "      <th>Lscc</th>\n",
              "      <td>lung squamous cell carcinoma</td>\n",
              "      <td>no restrictions</td>\n",
              "      <td>https://pubmed.ncbi.nlm.nih.gov/34358469/</td>\n",
              "    </tr>\n",
              "    <tr>\n",
              "      <th>Luad</th>\n",
              "      <td>lung adenocarcinoma</td>\n",
              "      <td>no restrictions</td>\n",
              "      <td>https://pubmed.ncbi.nlm.nih.gov/32649874/</td>\n",
              "    </tr>\n",
              "    <tr>\n",
              "      <th>Ovarian</th>\n",
              "      <td>high grade serous ovarian cancer</td>\n",
              "      <td>no restrictions</td>\n",
              "      <td>https://pubmed.ncbi.nlm.nih.gov/27372738/</td>\n",
              "    </tr>\n",
              "    <tr>\n",
              "      <th>Pdac</th>\n",
              "      <td>pancreatic ductal adenocarcinoma</td>\n",
              "      <td>no restrictions</td>\n",
              "      <td>https://pubmed.ncbi.nlm.nih.gov/34534465/</td>\n",
              "    </tr>\n",
              "    <tr>\n",
              "      <th>UcecConf</th>\n",
              "      <td>endometrial confirmatory carcinoma</td>\n",
              "      <td>password access only</td>\n",
              "      <td>unpublished</td>\n",
              "    </tr>\n",
              "    <tr>\n",
              "      <th>GbmConf</th>\n",
              "      <td>glioblastoma confirmatory</td>\n",
              "      <td>password access only</td>\n",
              "      <td>unpublished</td>\n",
              "    </tr>\n",
              "  </tbody>\n",
              "</table>\n",
              "</div>"
            ],
            "text/plain": [
              "                                           Description     Data reuse status  \\\n",
              "Dataset name                                                                   \n",
              "Brca                                     breast cancer       no restrictions   \n",
              "Ccrcc         clear cell renal cell carcinoma (kidney)       no restrictions   \n",
              "Colon                                colorectal cancer       no restrictions   \n",
              "Endometrial            endometrial carcinoma (uterine)       no restrictions   \n",
              "Gbm                                       glioblastoma       no restrictions   \n",
              "Hnscc            head and neck squamous cell carcinoma       no restrictions   \n",
              "Lscc                      lung squamous cell carcinoma       no restrictions   \n",
              "Luad                               lung adenocarcinoma       no restrictions   \n",
              "Ovarian               high grade serous ovarian cancer       no restrictions   \n",
              "Pdac                  pancreatic ductal adenocarcinoma       no restrictions   \n",
              "UcecConf            endometrial confirmatory carcinoma  password access only   \n",
              "GbmConf                      glioblastoma confirmatory  password access only   \n",
              "\n",
              "                                       Publication link  \n",
              "Dataset name                                             \n",
              "Brca          https://pubmed.ncbi.nlm.nih.gov/33212010/  \n",
              "Ccrcc         https://pubmed.ncbi.nlm.nih.gov/31675502/  \n",
              "Colon         https://pubmed.ncbi.nlm.nih.gov/31031003/  \n",
              "Endometrial   https://pubmed.ncbi.nlm.nih.gov/32059776/  \n",
              "Gbm           https://pubmed.ncbi.nlm.nih.gov/33577785/  \n",
              "Hnscc         https://pubmed.ncbi.nlm.nih.gov/33417831/  \n",
              "Lscc          https://pubmed.ncbi.nlm.nih.gov/34358469/  \n",
              "Luad          https://pubmed.ncbi.nlm.nih.gov/32649874/  \n",
              "Ovarian       https://pubmed.ncbi.nlm.nih.gov/27372738/  \n",
              "Pdac          https://pubmed.ncbi.nlm.nih.gov/34534465/  \n",
              "UcecConf                                    unpublished  \n",
              "GbmConf                                     unpublished  "
            ]
          },
          "execution_count": 80,
          "metadata": {},
          "output_type": "execute_result"
        }
      ],
      "source": [
        "#collapse-output\n",
        "#View all datasets\n",
        "cptac.list_datasets()"
      ]
    },
    {
      "cell_type": "code",
      "execution_count": null,
      "id": "30c01854-1ce1-40d7-80e5-39d308247056",
      "metadata": {
        "id": "30c01854-1ce1-40d7-80e5-39d308247056"
      },
      "outputs": [],
      "source": [
        "#collapse-output\n",
        "#Download a dataset\n",
        "cptac.download(dataset = \"name of dataset\")"
      ]
    }
  ],
  "metadata": {
    "kernelspec": {
      "display_name": "Python 3 (ipykernel)",
      "language": "python",
      "name": "python3"
    },
    "language_info": {
      "codemirror_mode": {
        "name": "ipython",
        "version": 3
      },
      "file_extension": ".py",
      "mimetype": "text/x-python",
      "name": "python",
      "nbconvert_exporter": "python",
      "pygments_lexer": "ipython3",
      "version": "3.9.12"
    },
    "colab": {
      "name": "2022-07-26-Pandas-Commands.ipynb",
      "provenance": [],
      "collapsed_sections": []
    }
  },
  "nbformat": 4,
  "nbformat_minor": 5
}